{
 "metadata": {
  "language_info": {
   "codemirror_mode": {
    "name": "ipython",
    "version": 3
   },
   "file_extension": ".py",
   "mimetype": "text/x-python",
   "name": "python",
   "nbconvert_exporter": "python",
   "pygments_lexer": "ipython3",
   "version": "3.8.8"
  },
  "orig_nbformat": 4,
  "kernelspec": {
   "name": "python3",
   "display_name": "Python 3.8.8 64-bit ('.venv': pipenv)"
  },
  "interpreter": {
   "hash": "39d6b8fc1ed1919e712c5defe7a5484c896df252afe1342de2765bdad7c4116b"
  }
 },
 "nbformat": 4,
 "nbformat_minor": 2,
 "cells": [
  {
   "cell_type": "code",
   "execution_count": null,
   "metadata": {},
   "outputs": [],
   "source": [
    "from faker import Faker\n",
    "from faker.providers import bank\n",
    "import sqlite3\n",
    "import os\n",
    "\n",
    "restaurant_num = 100\n",
    "user_num = 1000\n",
    "evaluation_num = 100\n",
    "\n",
    "path = '../rakumeshi.db'\n",
    "if os.path.exists(path):\n",
    "    os.remove(path)\n",
    "    print('200')\n",
    "else:\n",
    "    print('200')\n",
    "\n",
    "con = sqlite3.connect('../rakumeshi.db')\n",
    "cur = con.cursor()\n",
    "\n",
    "with open('./schema.sql', 'r') as f:\n",
    "    cur.executescript(f.read())\n",
    "\n",
    "fake = Faker()\n",
    "fake.add_provider(bank)\n"
   ]
  },
  {
   "cell_type": "code",
   "execution_count": null,
   "metadata": {},
   "outputs": [],
   "source": [
    "import pandas as pd\n",
    "from datetime import datetime\n",
    "\n",
    "columns = ['line_id', 'created_at']\n",
    "df = pd.DataFrame(columns=columns)\n",
    "\n",
    "for _ in range(1, user_num):\n",
    "    dt = int(datetime.now().timestamp())\n",
    "    l_id = fake.swift11()\n",
    "    d = [ l_id, dt ]\n",
    "    df_c = pd.DataFrame([d], columns=columns)\n",
    "    df = df.append(df_c, ignore_index=True)"
   ]
  },
  {
   "cell_type": "code",
   "execution_count": null,
   "metadata": {},
   "outputs": [],
   "source": [
    "df.to_sql(name='users', con=con, if_exists='append', index=False)"
   ]
  },
  {
   "cell_type": "code",
   "execution_count": null,
   "metadata": {},
   "outputs": [],
   "source": [
    "from random import randrange, uniform\n",
    "import datetime"
   ]
  },
  {
   "cell_type": "code",
   "execution_count": null,
   "metadata": {},
   "outputs": [],
   "source": [
    "for i in range(1, user_num):\n",
    "    id = i\n",
    "    sex = randrange(3)\n",
    "    genre = int(uniform(1, 15))\n",
    "    budget = int(uniform(1, 14))\n",
    "    while budget == 7:\n",
    "        budget = int(uniform(1, 14))\n",
    "    created_at = int(datetime.datetime.now().timestamp())\n",
    "    updated_at = int(datetime.datetime.now().timestamp())\n",
    "    query = 'INSERT INTO user_features(user_id, sex, genre, budget, created_at, updated_at) VALUES ((SELECT id FROM users WHERE id = ?), ?, ?, ?, ?, ?)'\n",
    "    args = [id, sex, genre, budget, created_at, updated_at]\n",
    "    cur.execute(query, args)\n",
    "    con.commit()"
   ]
  },
  {
   "cell_type": "code",
   "execution_count": null,
   "metadata": {},
   "outputs": [],
   "source": [
    "df_r = pd.read_csv('./restaurants.csv')\n",
    "df_r = df_r[:restaurant_num]\n",
    "df_r = df_r.drop(['id'], axis=1)\n",
    "df_r.insert(0, 'id', range(0, len(df_r)))\n",
    "df_r.to_sql(name='restaurants', con=con, if_exists='append', index=False)"
   ]
  },
  {
   "cell_type": "code",
   "execution_count": null,
   "metadata": {},
   "outputs": [],
   "source": [
    "for i in range(0, evaluation_num):\n",
    "    user_id = randrange(user_num - 1)\n",
    "    restraunt_id = randrange(restaurant_num)\n",
    "    evaluation = randrange(6)\n",
    "    created_at = int(datetime.datetime.now().timestamp())\n",
    "    query = 'INSERT INTO shop_evaluation(user_id, restraunt_id, evaluation, created_at) VALUES ((SELECT id FROM users WHERE id = ?), (SELECT id FROM restaurants WHERE id = ?), ?, ?)'\n",
    "    args = [user_id, restraunt_id, evaluation, created_at]\n",
    "    cur.execute(query, args)\n",
    "    con.commit()\n",
    "con.close()"
   ]
  }
 ]
}